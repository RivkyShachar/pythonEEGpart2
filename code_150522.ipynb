{
  "nbformat": 4,
  "nbformat_minor": 0,
  "metadata": {
    "colab": {
      "name": "code_130522.ipynb",
      "provenance": [],
      "collapsed_sections": []
    },
    "kernelspec": {
      "name": "python3",
      "display_name": "Python 3"
    },
    "language_info": {
      "name": "python"
    }
  },
  "cells": [
    {
      "cell_type": "code",
      "execution_count": 1,
      "metadata": {
        "id": "0Q8hB6Kydt0q"
      },
      "outputs": [],
      "source": [
        "import numpy as np\n",
        "import pandas as pd\n",
        "import seaborn as sns\n",
        "from scipy.stats import skew\n",
        "from scipy.stats import kurtosis\n",
        "from sklearn.decomposition import FastICA\n",
        "from sklearn.model_selection import train_test_split\n",
        "from sklearn.discriminant_analysis import LinearDiscriminantAnalysis as LDA\n",
        "from sklearn.svm import SVC\n",
        "from sklearn.model_selection import GridSearchCV\n",
        "from sklearn.metrics import confusion_matrix\n",
        "import math\n",
        "from sklearn.ensemble import RandomForestClassifier\n",
        "from sklearn.datasets import make_classification\n",
        "from sklearn.tree import DecisionTreeClassifier\n",
        "from matplotlib import pyplot"
      ]
    },
    {
      "cell_type": "code",
      "source": [
        "# acusition data\n",
        "#  veg12 - session 2 - 34 answers (17 yes 17 no)\n",
        "# marker_flag = 0\n",
        "# I = pd.read_csv('IHE-01-11.02.19-15.11.16_YES_NO.csv', skiprows=1, header=None);\n",
        "# veg12 session 3 - 16 Questions (8 yes 8 no)\n",
        "marker_flag = 0\n",
        "I = pd.read_csv('IHE-002_yesno-28.02.19-12.03.26.csv', skiprows=1, header=None);\n",
        "# big_df = pd.concat([I, I1, I2, I3,...], axis=1)\n",
        "# veg12 - session 4.2 - 35 answers (14 yes 21 no)\n",
        "# marker_flag = 0\n",
        "# I1 = pd.read_csv('yes_no_1.csv', skiprows=1, header=None);\n",
        "# I2 = pd.read_csv('yes_no_2.csv', skiprows=1, header=None);\n",
        "# I3 = pd.read_csv('yes_no_3.csv', skiprows=1, header=None);\n",
        "# I = pd.concat([I1, I2, I3], axis=1)\n",
        "# veg14 - session 1 - 34 answers (15 yes 19 no)\n",
        "# marker_flag = 0\n",
        "# I1 = pd.read_csv('VEG14-VEG14001-16.12.19-16.03.10.csv', skiprows=1, header=None);\n",
        "# I2 = pd.read_csv('VEG14-VEG14002-16.12.19-16.06.32.csv', skiprows=1, header=None);\n",
        "# I3 = pd.read_csv('VEG14-VEG14003-16.12.19-16.16.18.csv', skiprows=1, header=None);\n",
        "# I = pd.concat([I1, I2, I3], axis=1)\n",
        "# I = ?\n",
        "# veg16\n",
        "# marker_flag = 1"
      ],
      "metadata": {
        "id": "4pTZGj2ZRcLz"
      },
      "execution_count": 2,
      "outputs": []
    },
    {
      "cell_type": "code",
      "source": [
        "len(I)"
      ],
      "metadata": {
        "colab": {
          "base_uri": "https://localhost:8080/"
        },
        "id": "_rfeF5JgzUjR",
        "outputId": "7b9508c1-ddfd-43f0-feef-4d66f054b662"
      },
      "execution_count": 3,
      "outputs": [
        {
          "output_type": "execute_result",
          "data": {
            "text/plain": [
              "62720"
            ]
          },
          "metadata": {},
          "execution_count": 3
        }
      ]
    },
    {
      "cell_type": "code",
      "source": [
        "I.columns"
      ],
      "metadata": {
        "colab": {
          "base_uri": "https://localhost:8080/"
        },
        "id": "zGu6X-D-YTa4",
        "outputId": "b89f9d4d-481c-4cb0-9e39-34345052c4ab"
      },
      "execution_count": 4,
      "outputs": [
        {
          "output_type": "execute_result",
          "data": {
            "text/plain": [
              "Int64Index([ 0,  1,  2,  3,  4,  5,  6,  7,  8,  9, 10, 11, 12, 13, 14, 15, 16,\n",
              "            17, 18, 19, 20, 21, 22, 23, 24, 25, 26, 27, 28, 29, 30, 31, 32, 33,\n",
              "            34, 35, 36, 37, 38, 39],\n",
              "           dtype='int64')"
            ]
          },
          "metadata": {},
          "execution_count": 4
        }
      ]
    },
    {
      "cell_type": "code",
      "source": [
        "# Raw EEG 14 electrode \n",
        "EEG_Elec_data = I.iloc[:, 2:16]\n",
        "# EEG_Elec_data.shape\n",
        "EEG_data = EEG_Elec_data.to_numpy()\n",
        "#print(np.size(EEG_data))\n",
        "# print(len(EEG_data))\n",
        "# marker\n",
        "if marker_flag == 0:\n",
        "    marker = I[19]\n",
        "    # print(marker)\n",
        "elif marker_flag == 1:\n",
        "    marker = I[21]"
      ],
      "metadata": {
        "id": "25rLntOqRcHp"
      },
      "execution_count": 5,
      "outputs": []
    },
    {
      "cell_type": "code",
      "source": [
        "len(EEG_data[0])\n",
        "# len(EEG_data[:,1])"
      ],
      "metadata": {
        "colab": {
          "base_uri": "https://localhost:8080/"
        },
        "id": "ElxkNnVefqLB",
        "outputId": "088afedc-332c-4890-e8fd-3cba8e46d1df"
      },
      "execution_count": 6,
      "outputs": [
        {
          "output_type": "execute_result",
          "data": {
            "text/plain": [
              "14"
            ]
          },
          "metadata": {},
          "execution_count": 6
        }
      ]
    },
    {
      "cell_type": "code",
      "source": [
        "# EEG_data.shape\n",
        "# np.transpose(EEG_data)\n",
        "EEG_data.shape"
      ],
      "metadata": {
        "colab": {
          "base_uri": "https://localhost:8080/"
        },
        "id": "cTaKiIik1AZM",
        "outputId": "8e408c9f-3a29-4e1d-a087-1929f7e2b4c3"
      },
      "execution_count": 7,
      "outputs": [
        {
          "output_type": "execute_result",
          "data": {
            "text/plain": [
              "(62720, 14)"
            ]
          },
          "metadata": {},
          "execution_count": 7
        }
      ]
    },
    {
      "cell_type": "code",
      "source": [
        "def normy(a):\n",
        "  b = (a-np.mean(a))/(np.std(a))\n",
        "  return b"
      ],
      "metadata": {
        "id": "3y2s3iKS8ZfZ"
      },
      "execution_count": 8,
      "outputs": []
    },
    {
      "cell_type": "code",
      "source": [
        "NumOfElectrodes = 14\n",
        "for i in range(1,NumOfElectrodes+1):\n",
        "  #print(i)\n",
        "  EEG_data[:,i-1] = normy(EEG_data[:,i-1])"
      ],
      "metadata": {
        "id": "vagP4s_C8bKZ"
      },
      "execution_count": 9,
      "outputs": []
    },
    {
      "cell_type": "code",
      "source": [
        "# check if the normalization is on the each electrode\n",
        "# np.mean(EEG_data[:,0])\n",
        "# np.std(EEG_data[:,0])"
      ],
      "metadata": {
        "id": "Yj73f1n5lVyc"
      },
      "execution_count": null,
      "outputs": []
    },
    {
      "cell_type": "code",
      "source": [
        "ica = FastICA(n_components=NumOfElectrodes)\n",
        "EEG_data = ica.fit_transform(EEG_data)  # Reconstruct signals\n",
        "mixing_matrix = ica.mixing_  # Get estimated mixing matrix"
      ],
      "metadata": {
        "id": "RZUaRzZY9aWk"
      },
      "execution_count": 10,
      "outputs": []
    },
    {
      "cell_type": "code",
      "source": [
        "EEG_data.shape"
      ],
      "metadata": {
        "colab": {
          "base_uri": "https://localhost:8080/"
        },
        "id": "uaN7xCWJ9xEF",
        "outputId": "fdcb341d-e78f-4c4c-fed7-62c0ff65ab36"
      },
      "execution_count": 11,
      "outputs": [
        {
          "output_type": "execute_result",
          "data": {
            "text/plain": [
              "(62720, 14)"
            ]
          },
          "metadata": {},
          "execution_count": 11
        }
      ]
    },
    {
      "cell_type": "code",
      "source": [
        "# Find the non-zero indexes of the maker\n",
        "# print(np.nonzero(np.transpose(marker.to_numpy()))[0])\n",
        "marker_indexs = np.nonzero(np.transpose(marker.to_numpy()))[0]\n",
        "val_marker = marker[marker_indexs]\n",
        "print(val_marker)\n",
        "NumOfAnswers = np.sum(val_marker==127) + np.sum(val_marker==128)\n",
        "# print(NumOfAnswers)\n",
        "val_marker_1 = val_marker[1:len(val_marker)]\n",
        "val_marker_2 = val_marker[0:len(val_marker)-1]\n",
        "Answers_excel_labels = val_marker_1[((val_marker_1==1) | (val_marker_1==2)) & ((val_marker_2!=127) & (val_marker_2!=128))]\n",
        "# print(Answers_excel_labels)\n",
        "Answers_0_1_labels = Answers_excel_labels - 1\n",
        "Answers_0_1_labels = Answers_0_1_labels.to_numpy()\n",
        "print(Answers_0_1_labels)\n",
        "# print(type(Answers_0_1_labels.to_numpy()[0]))\n",
        "# Number of \"Yes\" and \"No\" Answers\n",
        "Num_of_Yes_Answers = np.sum(Answers_excel_labels==2)\n",
        "# print(Num_of_Yes_Answers)\n",
        "Num_of_No_Answers = np.sum(Answers_excel_labels==1)\n",
        "# print(Num_of_No_Answers)\n",
        "# arrange the answers in array\n",
        "k=0\n",
        "j=0\n",
        "# parametres to build the 4 seconds time-window\n",
        "num_samp = 128                   # number of delay samples before the question finished\n",
        "m = 1+2*num_samp/128             # shift for m seconds.\n",
        "shift = -num_samp/128            # in seconds\n",
        "NumOfElectrodes = 14\n",
        "CLIS_Answers_Rows = int(NumOfAnswers*NumOfElectrodes)\n",
        "CLIS_Answers_Cols = int(128*m+2)\n",
        "# CLIS_answers = np.ones((CLIS_Answers_Rows,CLIS_Answers_Cols))\n",
        "CLIS_answers = np.empty([CLIS_Answers_Rows, CLIS_Answers_Cols], dtype = float)\n",
        "print(type(CLIS_answers))\n",
        "# CLIS_answers.shape"
      ],
      "metadata": {
        "colab": {
          "base_uri": "https://localhost:8080/"
        },
        "id": "9MVkZ2fmRbv8",
        "outputId": "97e85d12-1398-4ea0-9041-31bd7214427d"
      },
      "execution_count": 12,
      "outputs": [
        {
          "output_type": "stream",
          "name": "stdout",
          "text": [
            "2088      24.0\n",
            "2282       1.0\n",
            "2285      87.0\n",
            "2312      87.0\n",
            "2314      87.0\n",
            "         ...  \n",
            "60246     82.0\n",
            "60258     82.0\n",
            "60283     82.0\n",
            "60315     82.0\n",
            "60346    127.0\n",
            "Name: 19, Length: 209, dtype: float64\n",
            "[0. 1. 0. 1. 0. 1. 0. 1. 1. 0. 0. 1. 0. 1. 1. 0.]\n",
            "<class 'numpy.ndarray'>\n"
          ]
        }
      ]
    },
    {
      "cell_type": "code",
      "source": [
        "print(type(EEG_data))\n",
        "EEG_data.shape\n",
        "print(type(CLIS_answers))\n",
        "CLIS_answers.shape\n",
        "print(EEG_data.ndim)"
      ],
      "metadata": {
        "colab": {
          "base_uri": "https://localhost:8080/"
        },
        "id": "k7vx1tFyXQhM",
        "outputId": "6391a2f9-3a48-4127-b3d8-2738b1229313"
      },
      "execution_count": 13,
      "outputs": [
        {
          "output_type": "stream",
          "name": "stdout",
          "text": [
            "<class 'numpy.ndarray'>\n",
            "<class 'numpy.ndarray'>\n",
            "2\n"
          ]
        }
      ]
    },
    {
      "cell_type": "code",
      "source": [
        "print(EEG_data[0, :384].shape)\n",
        "print(CLIS_answers[0, :384].shape)\n",
        "print(EEG_data.shape)\n",
        "print(np.transpose(EEG_data).shape)\n",
        "print(CLIS_answers.shape)\n",
        "EEG_data[1, 0:384]\n",
        "CLIS_answers[0,:384] = EEG_data.T[0, :384]\n",
        "# = EEG_data[0, 0:384]\n",
        "# print(EEG_data[13, ].ndim)\n",
        "# print(len(EEG_data[13, :]))\n",
        "# print(EEG_data.ndim)\n",
        "# EEG_data = np.transpose(EEG_data)\n",
        "# CLIS_answers[0,0:385] = EEG_data[13, 62592:62976]\n",
        "# CLIS_answers[0,0] = EEG_data[13, 62592]\n",
        "# print(len(EEG_data[13, :]))"
      ],
      "metadata": {
        "colab": {
          "base_uri": "https://localhost:8080/"
        },
        "id": "DUXHgxLAXH9r",
        "outputId": "6643af78-5f17-4c2a-96d1-0f9653ddf6c4"
      },
      "execution_count": 14,
      "outputs": [
        {
          "output_type": "stream",
          "name": "stdout",
          "text": [
            "(14,)\n",
            "(384,)\n",
            "(62720, 14)\n",
            "(14, 62720)\n",
            "(224, 386)\n"
          ]
        }
      ]
    },
    {
      "cell_type": "code",
      "source": [
        "for l in range(1,NumOfElectrodes+1):\n",
        "   print(l)"
      ],
      "metadata": {
        "colab": {
          "base_uri": "https://localhost:8080/"
        },
        "id": "qUolj4J0hexe",
        "outputId": "40655dfc-1e5c-4c7d-c68b-99b7bf757846"
      },
      "execution_count": 15,
      "outputs": [
        {
          "output_type": "stream",
          "name": "stdout",
          "text": [
            "1\n",
            "2\n",
            "3\n",
            "4\n",
            "5\n",
            "6\n",
            "7\n",
            "8\n",
            "9\n",
            "10\n",
            "11\n",
            "12\n",
            "13\n",
            "14\n"
          ]
        }
      ]
    },
    {
      "cell_type": "code",
      "source": [
        "m = int(m)\n",
        "shift = int(shift)\n",
        "print(Answers_0_1_labels,type(Answers_0_1_labels))\n",
        "for i in range(len(marker)):\n",
        "  if (marker[i] == 127 or marker[i] == 128):\n",
        "      for l in range(1,NumOfElectrodes+1):\n",
        "          # answers are arranged that rows correspond to observations and\n",
        "          # columns are the samples and any block of 14 rows is one\n",
        "          # question by 14 channles(electrodes),and the last column\n",
        "          # is the lables\n",
        "          CLIS_answers[k+l-1,0:128*m] = EEG_data[(i+128*shift-1):(i+128*m+128*shift-1), l-1]\n",
        "          CLIS_answers[k+l-1,128*m+1] = Answers_0_1_labels[j]\n",
        "      # adding the labeles\n",
        "      CLIS_answers[k,128*m+1] = Answers_0_1_labels[j]\n",
        "      CLIS_answers[k+1,128*m+1] = Answers_0_1_labels[j]\n",
        "      CLIS_answers[k+2,128*m+1] = Answers_0_1_labels[j]\n",
        "      CLIS_answers[k+3,128*m+1] = Answers_0_1_labels[j]\n",
        "      j = j + 1\n",
        "      k = k + NumOfElectrodes"
      ],
      "metadata": {
        "colab": {
          "base_uri": "https://localhost:8080/"
        },
        "id": "zqfrPX7YRbsL",
        "outputId": "eac36c34-5217-4201-8582-f338cf1b1802"
      },
      "execution_count": 16,
      "outputs": [
        {
          "output_type": "stream",
          "name": "stdout",
          "text": [
            "[0. 1. 0. 1. 0. 1. 0. 1. 1. 0. 0. 1. 0. 1. 1. 0.] <class 'numpy.ndarray'>\n"
          ]
        }
      ]
    },
    {
      "cell_type": "code",
      "source": [
        "print(len(CLIS_answers[1,:]))"
      ],
      "metadata": {
        "colab": {
          "base_uri": "https://localhost:8080/"
        },
        "id": "hHygjMGlBndS",
        "outputId": "25768610-7d7d-4a23-9f6b-c7f2223cd6be"
      },
      "execution_count": 17,
      "outputs": [
        {
          "output_type": "stream",
          "name": "stdout",
          "text": [
            "386\n"
          ]
        }
      ]
    },
    {
      "cell_type": "code",
      "source": [
        "def IQR(dist):\n",
        "    return np.percentile(dist, 75) - np.percentile(dist, 25)"
      ],
      "metadata": {
        "id": "zyOCehpzGBGr"
      },
      "execution_count": 18,
      "outputs": []
    },
    {
      "cell_type": "code",
      "source": [
        "NumOfFeatures = 10\n",
        "# print(NumOfAnswers, type(NumOfAnswers))\n",
        "NumOfAnswers = int(NumOfAnswers)\n",
        "# print(NumOfAnswers, type(NumOfAnswers))\n",
        "# print(NumOfElectrodes, type(NumOfElectrodes))\n",
        "# print(NumOfFeatures,type(NumOfFeatures))\n",
        "CLIS_Features = np.empty([NumOfAnswers*NumOfElectrodes, NumOfFeatures], dtype = float)\n",
        "EndCols = len(CLIS_answers[1,:]) - 1\n",
        "for f in range(NumOfAnswers*NumOfElectrodes):\n",
        "  CLIS_Features[f,0] = np.min(CLIS_answers[f,EndCols-1])\n",
        "  CLIS_Features[f,1] = np.var(CLIS_answers[f,EndCols-1])\n",
        "  CLIS_Features[f,2] = np.max(CLIS_answers[f,EndCols-1])\n",
        "  CLIS_Features[f,3] = np.mean(CLIS_answers[f,EndCols-1])\n",
        "  CLIS_Features[f,4] = skew(CLIS_answers[f,EndCols-1])\n",
        "  CLIS_Features[f,5] = np.percentile(CLIS_answers[f,EndCols-1],25)\n",
        "  CLIS_Features[f,6] = np.percentile(CLIS_answers[f,EndCols-1],50)\n",
        "  CLIS_Features[f,7] = IQR(CLIS_answers[f,EndCols-1])\n",
        "  CLIS_Features[f,8] = kurtosis(CLIS_answers[f,EndCols-1])\n",
        "  # The last feature is the labels \n",
        "  CLIS_Features[f,9] = CLIS_answers[f,EndCols]\n",
        "\n",
        "# print(CLIS_Features.shape)"
      ],
      "metadata": {
        "id": "F6ZiKWdRRbo8"
      },
      "execution_count": 19,
      "outputs": []
    },
    {
      "cell_type": "code",
      "source": [
        "CLIS_Features.shape"
      ],
      "metadata": {
        "colab": {
          "base_uri": "https://localhost:8080/"
        },
        "id": "fgVqc-vYyK1R",
        "outputId": "cded9d8c-dd59-4dda-e019-cf786fa968d2"
      },
      "execution_count": 20,
      "outputs": [
        {
          "output_type": "execute_result",
          "data": {
            "text/plain": [
              "(224, 10)"
            ]
          },
          "metadata": {},
          "execution_count": 20
        }
      ]
    },
    {
      "cell_type": "code",
      "source": [
        "int(len(CLIS_Features[:,1])/NumOfAnswers)"
      ],
      "metadata": {
        "colab": {
          "base_uri": "https://localhost:8080/"
        },
        "id": "EvpVHXjODQEp",
        "outputId": "7131b585-9724-4cf3-8f1e-4b91165933f5"
      },
      "execution_count": 21,
      "outputs": [
        {
          "output_type": "execute_result",
          "data": {
            "text/plain": [
              "14"
            ]
          },
          "metadata": {},
          "execution_count": 21
        }
      ]
    },
    {
      "cell_type": "code",
      "source": [
        "print(NumOfFeatures-2)"
      ],
      "metadata": {
        "colab": {
          "base_uri": "https://localhost:8080/"
        },
        "id": "2zPdetiAAXyX",
        "outputId": "caab5b5d-5e38-425e-bafd-aa276c25acd7"
      },
      "execution_count": 22,
      "outputs": [
        {
          "output_type": "stream",
          "name": "stdout",
          "text": [
            "8\n"
          ]
        }
      ]
    },
    {
      "cell_type": "code",
      "source": [
        "# labels columbn\n",
        "print(CLIS_Features[:,9])"
      ],
      "metadata": {
        "colab": {
          "base_uri": "https://localhost:8080/"
        },
        "id": "1Zz4q7A_AQ2K",
        "outputId": "08d2f7fa-a953-4651-e87f-3f8271d6d35b"
      },
      "execution_count": 23,
      "outputs": [
        {
          "output_type": "stream",
          "name": "stdout",
          "text": [
            "[0. 0. 0. 0. 0. 0. 0. 0. 0. 0. 0. 0. 0. 0. 1. 1. 1. 1. 1. 1. 1. 1. 1. 1.\n",
            " 1. 1. 1. 1. 0. 0. 0. 0. 0. 0. 0. 0. 0. 0. 0. 0. 0. 0. 1. 1. 1. 1. 1. 1.\n",
            " 1. 1. 1. 1. 1. 1. 1. 1. 0. 0. 0. 0. 0. 0. 0. 0. 0. 0. 0. 0. 0. 0. 1. 1.\n",
            " 1. 1. 1. 1. 1. 1. 1. 1. 1. 1. 1. 1. 0. 0. 0. 0. 0. 0. 0. 0. 0. 0. 0. 0.\n",
            " 0. 0. 1. 1. 1. 1. 1. 1. 1. 1. 1. 1. 1. 1. 1. 1. 1. 1. 1. 1. 1. 1. 1. 1.\n",
            " 1. 1. 1. 1. 1. 1. 0. 0. 0. 0. 0. 0. 0. 0. 0. 0. 0. 0. 0. 0. 0. 0. 0. 0.\n",
            " 0. 0. 0. 0. 0. 0. 0. 0. 0. 0. 1. 1. 1. 1. 1. 1. 1. 1. 1. 1. 1. 1. 1. 1.\n",
            " 0. 0. 0. 0. 0. 0. 0. 0. 0. 0. 0. 0. 0. 0. 1. 1. 1. 1. 1. 1. 1. 1. 1. 1.\n",
            " 1. 1. 1. 1. 1. 1. 1. 1. 1. 1. 1. 1. 1. 1. 1. 1. 1. 1. 0. 0. 0. 0. 0. 0.\n",
            " 0. 0. 0. 0. 0. 0. 0. 0.]\n"
          ]
        }
      ]
    },
    {
      "cell_type": "code",
      "source": [
        "answers_idx_vector =  np.linspace(1,NumOfAnswers,NumOfAnswers)\n",
        "answers_idx_vector"
      ],
      "metadata": {
        "colab": {
          "base_uri": "https://localhost:8080/"
        },
        "id": "N2JEEUQ6IL5z",
        "outputId": "50792c1e-3194-400b-958f-ae73b3ae3647"
      },
      "execution_count": 24,
      "outputs": [
        {
          "output_type": "execute_result",
          "data": {
            "text/plain": [
              "array([ 1.,  2.,  3.,  4.,  5.,  6.,  7.,  8.,  9., 10., 11., 12., 13.,\n",
              "       14., 15., 16.])"
            ]
          },
          "metadata": {},
          "execution_count": 24
        }
      ]
    },
    {
      "cell_type": "code",
      "source": [
        "X_train_idx, X_test_idx, y_train, y_test = train_test_split(answers_idx_vector, Answers_0_1_labels, test_size=0.4, random_state=42)"
      ],
      "metadata": {
        "id": "apL2lhb0dJOg"
      },
      "execution_count": 54,
      "outputs": []
    },
    {
      "cell_type": "code",
      "source": [
        "cols = np.linspace(1,NumOfFeatures-1,NumOfFeatures-1)\n",
        "cols = cols - 1\n",
        "cols = cols.astype(int)"
      ],
      "metadata": {
        "id": "0NYCXdwtqCxn"
      },
      "execution_count": 55,
      "outputs": []
    },
    {
      "cell_type": "code",
      "source": [
        "X_train_idx = X_train_idx.astype(int)\n",
        "X_test_idx = X_test_idx.astype(int)\n",
        "X_train_idx = np.sort(X_train_idx)"
      ],
      "metadata": {
        "id": "Xv_k4qmd7Ymc"
      },
      "execution_count": 56,
      "outputs": []
    },
    {
      "cell_type": "code",
      "source": [
        "CLIS_Features_orded_by_answers = np.empty([NumOfAnswers*NumOfElectrodes, NumOfFeatures-1], dtype = float)\n",
        "X_train = []\n",
        "for e in range(NumOfElectrodes): \n",
        "      # CLIS_Features_orded_by_answers[,:] = CLIS_Features"
      ],
      "metadata": {
        "colab": {
          "base_uri": "https://localhost:8080/"
        },
        "id": "NBrP8E1m54Ol",
        "outputId": "e362cbdb-a4bd-448f-925f-235e79b0c513"
      },
      "execution_count": 59,
      "outputs": [
        {
          "output_type": "stream",
          "name": "stdout",
          "text": [
            "0\n",
            "1\n",
            "2\n",
            "3\n",
            "4\n",
            "5\n",
            "6\n",
            "7\n",
            "8\n",
            "9\n",
            "10\n",
            "11\n",
            "12\n",
            "13\n",
            "0\n",
            "1\n",
            "2\n",
            "3\n",
            "4\n",
            "5\n",
            "6\n",
            "7\n",
            "8\n",
            "9\n",
            "10\n",
            "11\n",
            "12\n",
            "13\n",
            "0\n",
            "1\n",
            "2\n",
            "3\n",
            "4\n",
            "5\n",
            "6\n",
            "7\n",
            "8\n",
            "9\n",
            "10\n",
            "11\n",
            "12\n",
            "13\n",
            "0\n",
            "1\n",
            "2\n",
            "3\n",
            "4\n",
            "5\n",
            "6\n",
            "7\n",
            "8\n",
            "9\n",
            "10\n",
            "11\n",
            "12\n",
            "13\n",
            "0\n",
            "1\n",
            "2\n",
            "3\n",
            "4\n",
            "5\n",
            "6\n",
            "7\n",
            "8\n",
            "9\n",
            "10\n",
            "11\n",
            "12\n",
            "13\n",
            "0\n",
            "1\n",
            "2\n",
            "3\n",
            "4\n",
            "5\n",
            "6\n",
            "7\n",
            "8\n",
            "9\n",
            "10\n",
            "11\n",
            "12\n",
            "13\n",
            "0\n",
            "1\n",
            "2\n",
            "3\n",
            "4\n",
            "5\n",
            "6\n",
            "7\n",
            "8\n",
            "9\n",
            "10\n",
            "11\n",
            "12\n",
            "13\n",
            "0\n",
            "1\n",
            "2\n",
            "3\n",
            "4\n",
            "5\n",
            "6\n",
            "7\n",
            "8\n",
            "9\n",
            "10\n",
            "11\n",
            "12\n",
            "13\n",
            "0\n",
            "1\n",
            "2\n",
            "3\n",
            "4\n",
            "5\n",
            "6\n",
            "7\n",
            "8\n",
            "9\n",
            "10\n",
            "11\n",
            "12\n",
            "13\n"
          ]
        }
      ]
    },
    {
      "cell_type": "code",
      "source": [
        "# CLIS_Features.shape\n",
        "# X_train = [];        # empty list\n",
        "# for X_train_idx in CLIS_Features[:,:-1]:\n",
        "  #X_train.append([X_train_idx])  "
      ],
      "metadata": {
        "id": "MLu4WpVB-6nt"
      },
      "execution_count": 48,
      "outputs": []
    },
    {
      "cell_type": "code",
      "source": [
        ""
      ],
      "metadata": {
        "colab": {
          "base_uri": "https://localhost:8080/"
        },
        "id": "auNplZb7aEPY",
        "outputId": "d21b3bb9-bdeb-4ff7-b1c1-62267cc3e076"
      },
      "execution_count": 35,
      "outputs": [
        {
          "output_type": "stream",
          "name": "stdout",
          "text": [
            "[[1827.    0. 1827. ...    0.   -3.    0.]\n",
            " [1830.    0. 1830. ...    0.   -3.    0.]\n",
            " [1833.    0. 1833. ...    0.   -3.    0.]\n",
            " ...\n",
            " [   4.    0.    4. ...    0.   -3.    0.]\n",
            " [   4.    0.    4. ...    0.   -3.    0.]\n",
            " [   4.    0.    4. ...    0.   -3.    0.]]\n"
          ]
        }
      ]
    },
    {
      "cell_type": "code",
      "source": [
        "\n",
        "\n",
        "# X_train = CLIS_Features[][cols]\n",
        "# X_test = CLIS_Features[X_test_idx][cols]"
      ],
      "metadata": {
        "id": "RbYMbNI1dN2f"
      },
      "execution_count": 28,
      "outputs": []
    },
    {
      "cell_type": "code",
      "source": [
        "A = [[1, 4, 5, 12], \n",
        "    [-5, 8, 9, 0],\n",
        "    [-6, 7, 11, 19]]\n",
        "print(A)"
      ],
      "metadata": {
        "colab": {
          "base_uri": "https://localhost:8080/"
        },
        "id": "NUD3E4y8nfcz",
        "outputId": "d85ddb37-2f7c-44f1-cd84-c8b4453f568c"
      },
      "execution_count": 30,
      "outputs": [
        {
          "output_type": "stream",
          "name": "stdout",
          "text": [
            "[[1, 4, 5, 12], [-5, 8, 9, 0], [-6, 7, 11, 19]]\n"
          ]
        }
      ]
    },
    {
      "cell_type": "code",
      "source": [
        "X_train_idx\n",
        "# len(Answers_0_1_labels)\n",
        "# y_train_idx\n",
        "# len(X_train_idx)"
      ],
      "metadata": {
        "colab": {
          "base_uri": "https://localhost:8080/"
        },
        "id": "4qkF8JJkI3Qo",
        "outputId": "616f26a1-d80f-4dbb-e86d-d766336e4393"
      },
      "execution_count": null,
      "outputs": [
        {
          "output_type": "execute_result",
          "data": {
            "text/plain": [
              "array([10.,  3., 16.,  5.,  8., 11., 13.,  4.,  7.])"
            ]
          },
          "metadata": {},
          "execution_count": 28
        }
      ]
    },
    {
      "cell_type": "code",
      "source": [
        "X_test_idx"
      ],
      "metadata": {
        "colab": {
          "base_uri": "https://localhost:8080/"
        },
        "id": "FqbApm84kX-4",
        "outputId": "288697f1-90c9-412c-c48e-f7f238c54256"
      },
      "execution_count": null,
      "outputs": [
        {
          "output_type": "execute_result",
          "data": {
            "text/plain": [
              "array([ 1.,  2.,  6., 15., 14., 12.,  9.])"
            ]
          },
          "metadata": {},
          "execution_count": 29
        }
      ]
    },
    {
      "cell_type": "code",
      "source": [
        "# LDA\n",
        "# sklearn_lda = LDA(n_components=1)\n",
        "# X_lda_sklearn = sklearn_lda.fit_transform(X, y)\n",
        "\n",
        "for e in range(1,NumOfElectrodes+1):\n",
        "  # LDA\n",
        "  sklearn_lda = LDA(n_components=1)\n",
        "  X_lda_sklearn = sklearn_lda.fit_transform(X_train[,], y_train[,])\n"
      ],
      "metadata": {
        "id": "5Nf5bZKnRbh6"
      },
      "execution_count": null,
      "outputs": []
    },
    {
      "cell_type": "code",
      "source": [
        ""
      ],
      "metadata": {
        "id": "dQYu5l0DRaDp"
      },
      "execution_count": null,
      "outputs": []
    }
  ]
}